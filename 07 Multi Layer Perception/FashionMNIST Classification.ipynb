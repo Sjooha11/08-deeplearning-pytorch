{
 "cells": [
  {
   "cell_type": "markdown",
   "id": "05c99858-b7f2-4504-8ad0-1127f7018bfa",
   "metadata": {},
   "source": [
    "# 분류 (Classification)\n",
    "\n",
    "## Fashion MNIST Dataset - 다중분류(Multi-Class Classification) 문제"
   ]
  },
  {
   "cell_type": "markdown",
   "id": "f658b6b2-12c4-4c96-9028-bb73a6fc5b2e",
   "metadata": {},
   "source": [
    "- 10개의 범주(category)  : **label은 0~9 정수**\n",
    "- 70,000개의 **흑백 이미지**로 구성된 [패션 MNIST](https://github.com/zalandoresearch/fashion-mnist) 데이터셋.\n",
    "- 해상도(**28x28 픽셀**)\n",
    "\n",
    "\n",
    "\n",
    "<table>\n",
    "  <tr>\n",
    "    <th>레이블</th>\n",
    "    <th>클래스</th>\n",
    "  </tr>\n",
    "  <tr>\n",
    "    <td>0</td>\n",
    "    <td>T-shirt/top</td>\n",
    "  </tr>\n",
    "  <tr>\n",
    "    <td>1</td>\n",
    "    <td>Trousers</td>\n",
    "  </tr>\n",
    "    <tr>\n",
    "    <td>2</td>\n",
    "    <td>Pullover</td>\n",
    "  </tr>\n",
    "    <tr>\n",
    "    <td>3</td>\n",
    "    <td>Dress</td>\n",
    "  </tr>\n",
    "    <tr>\n",
    "    <td>4</td>\n",
    "    <td>Coat</td>\n",
    "  </tr>\n",
    "    <tr>\n",
    "    <td>5</td>\n",
    "    <td>Sandal</td>\n",
    "  </tr>\n",
    "    <tr>\n",
    "    <td>6</td>\n",
    "    <td>Shirt</td>\n",
    "  </tr>\n",
    "    <tr>\n",
    "    <td>7</td>\n",
    "    <td>Sneaker</td>\n",
    "  </tr>\n",
    "    <tr>\n",
    "    <td>8</td>\n",
    "    <td>Bag</td>\n",
    "  </tr>\n",
    "    <tr>\n",
    "    <td>9</td>\n",
    "    <td>Ankle boot</td>\n",
    "  </tr>\n",
    "</table>"
   ]
  },
  {
   "cell_type": "code",
   "execution_count": 1,
   "id": "69e79a4c-0d7f-4e0b-9faa-62756816b393",
   "metadata": {},
   "outputs": [
    {
     "name": "stdout",
     "output_type": "stream",
     "text": [
      "cpu\n"
     ]
    }
   ],
   "source": [
    "import torch \n",
    "import torch.nn as nn\n",
    "from torch.utils.data import DataLoader\n",
    "from torchvision import datasets, transforms # built-in dataset\n",
    "from torchinfo import summary \n",
    "\n",
    "import matplotlib.pyplot as plt\n",
    "import numpy as np\n",
    "\n",
    "device = \"cuda\" if torch.cuda.is_available() else \"cpu\"\n",
    "print(device)\n",
    "\n"
   ]
  },
  {
   "cell_type": "code",
   "execution_count": 2,
   "id": "8fd814a0-9793-4a9a-bf0f-3ba51dfb2c2e",
   "metadata": {},
   "outputs": [
    {
     "name": "stdout",
     "output_type": "stream",
     "text": [
      "Requirement already satisfied: torchinfo in c:\\classes\\08_deeplearning_pytorch\\env\\lib\\site-packages (1.8.0)\n"
     ]
    }
   ],
   "source": [
    "!pip install torchinfo"
   ]
  },
  {
   "cell_type": "markdown",
   "id": "156a748d-5e7b-4104-ad2e-9c163c902b31",
   "metadata": {},
   "source": [
    "# 1. 데이터 준비"
   ]
  },
  {
   "cell_type": "code",
   "execution_count": 3,
   "id": "78806a3e-5e23-400f-b5d2-bd038ba13571",
   "metadata": {},
   "outputs": [],
   "source": [
    "# 1. Dataset 생성 - Built-in Dataset\n",
    "# built-in dataset 다운받을 경로 \n",
    "\n",
    "root_path = r\"C:\\Classes\\deeplearning\\datasets\"\n",
    "trainset= datasets.FashionMNIST(\n",
    "    root= root_path, train = True, download=True, transform = transforms.ToTensor()\n",
    ")\n",
    "\n",
    "testset = datasets.FashionMNIST(\n",
    "    root=root_path, train= False, download= True, transform =transforms.ToTensor()\n",
    ")"
   ]
  },
  {
   "cell_type": "code",
   "execution_count": 4,
   "id": "a27e25ee-f5fc-447c-be35-19c40273ff60",
   "metadata": {},
   "outputs": [
    {
     "data": {
      "text/plain": [
       "Dataset FashionMNIST\n",
       "    Number of datapoints: 60000\n",
       "    Root location: C:\\Classes\\deeplearning\\datasets\n",
       "    Split: Train\n",
       "    StandardTransform\n",
       "Transform: ToTensor()"
      ]
     },
     "execution_count": 4,
     "metadata": {},
     "output_type": "execute_result"
    }
   ],
   "source": [
    "trainset"
   ]
  },
  {
   "cell_type": "code",
   "execution_count": 5,
   "id": "e4d32ee7-7e26-4dd4-9852-4f8fe1252b0e",
   "metadata": {},
   "outputs": [
    {
     "data": {
      "text/plain": [
       "(50000, 10000, 10000)"
      ]
     },
     "execution_count": 5,
     "metadata": {},
     "output_type": "execute_result"
    }
   ],
   "source": [
    "# Validation set을 trainset으로부터 생성\n",
    "trainset, validset = torch.utils.data.random_split(trainset, [50000,10000])\n",
    "len(trainset),len(validset),len(testset)"
   ]
  },
  {
   "cell_type": "code",
   "execution_count": 6,
   "id": "8a6425f1-dd73-454c-989d-f8e9439f0fda",
   "metadata": {},
   "outputs": [
    {
     "data": {
      "text/plain": [
       "<torch.utils.data.dataset.Subset at 0x2960613c050>"
      ]
     },
     "execution_count": 6,
     "metadata": {},
     "output_type": "execute_result"
    }
   ],
   "source": [
    "trainset"
   ]
  },
  {
   "cell_type": "code",
   "execution_count": 7,
   "id": "d73d0037-9c9e-495e-8a05-fd1b441cbf0f",
   "metadata": {},
   "outputs": [
    {
     "data": {
      "text/plain": [
       "{'T-shirt/top': 0,\n",
       " 'Trouser': 1,\n",
       " 'Pullover': 2,\n",
       " 'Dress': 3,\n",
       " 'Coat': 4,\n",
       " 'Sandal': 5,\n",
       " 'Shirt': 6,\n",
       " 'Sneaker': 7,\n",
       " 'Bag': 8,\n",
       " 'Ankle boot': 9}"
      ]
     },
     "execution_count": 7,
     "metadata": {},
     "output_type": "execute_result"
    }
   ],
   "source": [
    "testset.classes\n",
    "testset.class_to_idx"
   ]
  },
  {
   "cell_type": "code",
   "execution_count": 8,
   "id": "453f68eb-6e4b-451a-85f9-70da6eae4491",
   "metadata": {},
   "outputs": [
    {
     "data": {
      "image/png": "[encoded data removed]",
      "text/plain": [
       "<Figure size 640x480 with 1 Axes>"
      ]
     },
     "metadata": {},
     "output_type": "display_data"
    }
   ],
   "source": [
    "# 입력 이미지 확인\n",
    "idx = 1187\n",
    "x, y = testset[idx]\n",
    "plt.imshow(x.squeeze(), cmap=\"Greys\")   # 차원이 1인 축 제거\n",
    "plt.title(f\"{testset.classes[y]}\")\n",
    "plt.show()"
   ]
  },
  {
   "cell_type": "code",
   "execution_count": 9,
   "id": "183773ca-54c5-4911-b7f7-d5f1b3014d69",
   "metadata": {},
   "outputs": [],
   "source": [
    "### DataLoader 생성\n",
    "\n",
    "train_loader = DataLoader(trainset, 128, shuffle = True, drop_last =True) \n",
    "valid_loader = DataLoader(validset, 128)\n",
    "test_loader = DataLoader(testset, 128)"
   ]
  },
  {
   "cell_type": "code",
   "execution_count": 10,
   "id": "7d80e41d-757f-4b3b-962c-ff75f7c3641a",
   "metadata": {},
   "outputs": [
    {
     "name": "stdout",
     "output_type": "stream",
     "text": [
      "torch.Size([1, 28, 28])\n"
     ]
    },
    {
     "data": {
      "text/plain": [
       "8"
      ]
     },
     "execution_count": 10,
     "metadata": {},
     "output_type": "execute_result"
    }
   ],
   "source": [
    "print(trainset[0][0].shape)  # x shape\n",
    "trainset[0][1]  #y"
   ]
  },
  {
   "cell_type": "code",
   "execution_count": 11,
   "id": "b9b9fb91-3b4a-46b3-9974-27d4bf4142d7",
   "metadata": {},
   "outputs": [],
   "source": [
    "########## 모델 정의 \n",
    "class FashionMNISTModel(nn.Module):\n",
    "\n",
    "    def __init__(self):\n",
    "        super().__init__()\n",
    "        self.lr1 = nn.Linear(1*28*28, 1024) # in_features : 입력 데이터의 feature 수\n",
    "        self.lr2 = nn.Linear(1024, 512)\n",
    "        self.lr3 = nn.Linear(512, 256)\n",
    "        self.lr4 = nn.Linear(256, 128)\n",
    "        self.lr5 = nn.Linear(128, 64)\n",
    "        self.lr6 = nn.Linear(64,10) # 다중분류 ; y의 class 개수\n",
    "        self.relu = nn.ReLU()\n",
    "\n",
    "    def forward(self, X):\n",
    "        # X.shape : (batch, channel, h, w) -> 입력(1차원 ) - Linear\n",
    "        # X.shape을 1차원을 (batch축 유지하고 1차원으로)\n",
    "        # out = torch.flatten(X, start_dim=1)\n",
    "        out = nn.Flatten()(X)\n",
    "        out = self.relu(self.lr1(out))\n",
    "        out = self.relu(self.lr2(out))\n",
    "        out = self.relu(self.lr3(out))\n",
    "        out = self.relu(self.lr4(out))\n",
    "        out = self.relu(self.lr5(out))\n",
    "        out = self.lr6(out)\n",
    "        return out\n",
    "        "
   ]
  },
  {
   "cell_type": "code",
   "execution_count": 12,
   "id": "b53bd291-8ead-4ebc-bd22-9d534ae664aa",
   "metadata": {},
   "outputs": [
    {
     "name": "stdout",
     "output_type": "stream",
     "text": [
      "FashionMNISTModel(\n",
      "  (lr1): Linear(in_features=784, out_features=1024, bias=True)\n",
      "  (lr2): Linear(in_features=1024, out_features=512, bias=True)\n",
      "  (lr3): Linear(in_features=512, out_features=256, bias=True)\n",
      "  (lr4): Linear(in_features=256, out_features=128, bias=True)\n",
      "  (lr5): Linear(in_features=128, out_features=64, bias=True)\n",
      "  (lr6): Linear(in_features=64, out_features=10, bias=True)\n",
      "  (relu): ReLU()\n",
      ")\n"
     ]
    }
   ],
   "source": [
    "f_model = FashionMNISTModel()\n",
    "print(f_model)"
   ]
  },
  {
   "cell_type": "code",
   "execution_count": 13,
   "id": "2c04985b-eef8-4680-a291-025e3c7f9894",
   "metadata": {},
   "outputs": [
    {
     "data": {
      "text/plain": [
       "==========================================================================================\n",
       "Layer (type:depth-idx)                   Output Shape              Param #\n",
       "==========================================================================================\n",
       "FashionMNISTModel                        [128, 10]                 --\n",
       "├─Linear: 1-1                            [128, 1024]               803,840\n",
       "├─ReLU: 1-2                              [128, 1024]               --\n",
       "├─Linear: 1-3                            [128, 512]                524,800\n",
       "├─ReLU: 1-4                              [128, 512]                --\n",
       "├─Linear: 1-5                            [128, 256]                131,328\n",
       "├─ReLU: 1-6                              [128, 256]                --\n",
       "├─Linear: 1-7                            [128, 128]                32,896\n",
       "├─ReLU: 1-8                              [128, 128]                --\n",
       "├─Linear: 1-9                            [128, 64]                 8,256\n",
       "├─ReLU: 1-10                             [128, 64]                 --\n",
       "├─Linear: 1-11                           [128, 10]                 650\n",
       "==========================================================================================\n",
       "Total params: 1,501,770\n",
       "Trainable params: 1,501,770\n",
       "Non-trainable params: 0\n",
       "Total mult-adds (Units.MEGABYTES): 192.23\n",
       "==========================================================================================\n",
       "Input size (MB): 0.40\n",
       "Forward/backward pass size (MB): 2.04\n",
       "Params size (MB): 6.01\n",
       "Estimated Total Size (MB): 8.45\n",
       "=========================================================================================="
      ]
     },
     "execution_count": 13,
     "metadata": {},
     "output_type": "execute_result"
    }
   ],
   "source": [
    "summary(f_model,(128,1,28,28))"
   ]
  },
  {
   "cell_type": "code",
   "execution_count": 14,
   "id": "4d25b3b6-4ce6-42a5-83b5-216258b01aa0",
   "metadata": {},
   "outputs": [
    {
     "name": "stdout",
     "output_type": "stream",
     "text": [
      "torch.Size([2, 10])\n"
     ]
    }
   ],
   "source": [
    "# dummy data를 이용해서 추론 (model에 입력-> 결과 확인)\n",
    "with torch.no_grad():\n",
    "    sample = torch.ones((2,1,28,28), dtype = torch.float32) # 2개 이미지\n",
    "    y_hat = f_model(sample)\n",
    "    print(y_hat.shape)"
   ]
  },
  {
   "cell_type": "code",
   "execution_count": 15,
   "id": "6f4ec33e-0617-47e9-ba9b-c0de29b4d7c0",
   "metadata": {},
   "outputs": [
    {
     "data": {
      "text/plain": [
       "(tensor(4), 'Coat')"
      ]
     },
     "execution_count": 15,
     "metadata": {},
     "output_type": "execute_result"
    }
   ],
   "source": [
    "y_hat[0]\n",
    "# class별 정답 여부값\n",
    "i = y_hat[0].argmax(dim=-1) # 마지막 차원 \n",
    "i, testset.classes[i.item()]"
   ]
  },
  {
   "cell_type": "code",
   "execution_count": 16,
   "id": "bacedbf6-df4c-412e-a7c3-ba5dad2e68fe",
   "metadata": {},
   "outputs": [
    {
     "data": {
      "text/plain": [
       "1"
      ]
     },
     "execution_count": 16,
     "metadata": {},
     "output_type": "execute_result"
    }
   ],
   "source": [
    "### 정확도\n",
    "y = torch.tensor([1,4])\n",
    "pred = y_hat.argmax(dim=-1)\n",
    "torch.sum(y==pred).item()"
   ]
  },
  {
   "cell_type": "code",
   "execution_count": 17,
   "id": "8486a638-8f34-486c-b7c7-602e578df087",
   "metadata": {},
   "outputs": [
    {
     "data": {
      "text/plain": [
       "tensor([1.0000, 1.0000])"
      ]
     },
     "execution_count": 17,
     "metadata": {},
     "output_type": "execute_result"
    }
   ],
   "source": [
    "proba=  nn.Softmax(dim=-1)(y_hat) # 다중 분류 확률 softmax : 값의 범위 0-1, 값의 합: 1\n",
    "proba\n",
    "proba.sum(dim=-1) #확률 다 합치면 1"
   ]
  },
  {
   "cell_type": "code",
   "execution_count": 18,
   "id": "7d93fce1-040b-4c41-99d1-3ef985a79207",
   "metadata": {},
   "outputs": [],
   "source": [
    "###########################\n",
    "# 학습 + 검증\n",
    "###########################\n",
    "# 하이퍼파라미터\n",
    "LR = 0.001\n",
    "EPOCHS = 20\n",
    "\n",
    "# train -> model, loss_fn, optimizer\n",
    "model = FashionMNISTModel().to(device)\n",
    "# 다중분류 : CrossEntropyLoss()(pred, y) - pred : softmax 통과x ,y : one-hot encoding\n",
    "loss_fn = nn.CrossEntropyLoss() \n",
    "optimizer = torch.optim.Adam(model.parameters(), lr= LR)\n"
   ]
  },
  {
   "cell_type": "code",
   "execution_count": 19,
   "id": "e5377c98-41ec-47a1-b119-37697a526c99",
   "metadata": {},
   "outputs": [
    {
     "name": "stdout",
     "output_type": "stream",
     "text": [
      "[0000/20] train loss : 0.6704653979876103, valid loss : 0.47858610221102266, valid acc : 0.8289\n",
      "[0001/20] train loss : 0.40929197241098453, valid loss : 0.3969121188679828, valid acc : 0.8551\n",
      "[0002/20] train loss : 0.36164130706053516, valid loss : 0.4278428520582899, valid acc : 0.8468\n",
      "[0003/20] train loss : 0.33053305920882103, valid loss : 0.3577569858937324, valid acc : 0.8734\n",
      "[0004/20] train loss : 0.30969638713659386, valid loss : 0.3820058213004583, valid acc : 0.8642\n",
      "[0005/20] train loss : 0.29235067266302234, valid loss : 0.3606687531441073, valid acc : 0.8722\n",
      "[0006/20] train loss : 0.2803544016984793, valid loss : 0.33945350877091857, valid acc : 0.8765\n",
      "[0007/20] train loss : 0.2627343286688511, valid loss : 0.3568407093422322, valid acc : 0.8772\n",
      "[0008/20] train loss : 0.25447133065034183, valid loss : 0.3459293393394615, valid acc : 0.884\n",
      "[0009/20] train loss : 0.24539017249376346, valid loss : 0.3486126908395864, valid acc : 0.8791\n",
      "[0010/20] train loss : 0.2359940388836922, valid loss : 0.36728569544568845, valid acc : 0.8766\n",
      "[0011/20] train loss : 0.22213137419177936, valid loss : 0.3692520245721069, valid acc : 0.883\n",
      "[0012/20] train loss : 0.21629687423507374, valid loss : 0.3373298673312875, valid acc : 0.8822\n",
      "[0013/20] train loss : 0.21131520471893825, valid loss : 0.35623068918910206, valid acc : 0.8824\n",
      "[0014/20] train loss : 0.19914579977018712, valid loss : 0.3509252691947961, valid acc : 0.8878\n",
      "[0015/20] train loss : 0.19334805474067346, valid loss : 0.3511692981553983, valid acc : 0.8899\n",
      "[0016/20] train loss : 0.18619970130996827, valid loss : 0.34387261090399346, valid acc : 0.8894\n",
      "[0017/20] train loss : 0.17982795387506484, valid loss : 0.37295492068876196, valid acc : 0.888\n",
      "[0018/20] train loss : 0.17309146456611463, valid loss : 0.359570616125306, valid acc : 0.8943\n",
      "[0019/20] train loss : 0.16777128179868062, valid loss : 0.36794369375403924, valid acc : 0.8928\n",
      "학습에 걸린 시간 : 516.5050873756409초\n"
     ]
    }
   ],
   "source": [
    "######### 학습 - train loss, validation loss, validation accuracy\n",
    "import time\n",
    "train_loss_list = []\n",
    "valid_loss_list = []\n",
    "valid_acc_list = []\n",
    "\n",
    "s = time.time()\n",
    "for epoch in range(EPOCHS):\n",
    "    # 한 epoch 학습+검증\n",
    "    ##################################train\n",
    "    # 1. train 모드\n",
    "    model.train()\n",
    "    train_loss = 0.0\n",
    "    for X_train, y_train in train_loader:\n",
    "        # 2. device옮기기\n",
    "        X_train, y_train = X_train.to(device), y_train.to(device)\n",
    "        # 3. 모델 추정\n",
    "        pred_train = model(X_train)\n",
    "        # 4. loss 계산\n",
    "        loss = loss_fn(pred_train, y_train)\n",
    "        # 5. 파라미터들의 gradient 계산\n",
    "        loss.backward()\n",
    "        # 6. 파라미터 업데이터\n",
    "        optimizer.step()\n",
    "        # 7. 파라미터 초기화\n",
    "        optimizer.zero_grad()\n",
    "        # loss 누적\n",
    "        train_loss += loss.item()\n",
    "    train_loss /= len(train_loader)\n",
    "    train_loss_list.append(train_loss)\n",
    "\n",
    "    ################################## validation\n",
    "    #1. eval 모드\n",
    "    model.eval()\n",
    "    val_loss= 0.0\n",
    "    val_acc = 0.0\n",
    "    with torch.no_grad():\n",
    "        for X_val, y_val in test_loader:\n",
    "            #2. device옮기기\n",
    "            X_val, y_val = X_val.to(device), y_val.to(device)\n",
    "            # 3. 추론\n",
    "            pred_val = model(X_val)\n",
    "            # 4. 검증\n",
    "            loss = loss_fn(pred_val, y_val)\n",
    "            val_loss+=loss.item()\n",
    "\n",
    "            # 정확도 \n",
    "            pred_class = pred_val.argmax(dim =-1)\n",
    "            val_acc += torch.sum(y_val == pred_class).item()\n",
    "        val_loss /= len(test_loader)\n",
    "        val_acc = val_acc / len(test_loader.dataset) # DataLoader.dataset : dataset을 반환    \n",
    "        valid_loss_list.append(val_loss)\n",
    "        valid_acc_list.append(val_acc)\n",
    "    print(f\"[{epoch:04d}/{EPOCHS}] train loss : {train_loss}, valid loss : {val_loss}, valid acc : {val_acc}\")\n",
    "\n",
    "e= time.time()\n",
    "print(f\"학습에 걸린 시간 : {e-s}초\")"
   ]
  },
  {
   "cell_type": "code",
   "execution_count": 20,
   "id": "c7cc9b05-ecef-456d-bbb0-d60c6e3ba007",
   "metadata": {},
   "outputs": [
    {
     "data": {
      "image/png": "[encoded data removed]",
      "text/plain": [
       "<Figure size 1500x600 with 2 Axes>"
      ]
     },
     "metadata": {},
     "output_type": "display_data"
    }
   ],
   "source": [
    "# 학습 결과 시각화\n",
    "plt.figure(figsize = (15,6))\n",
    "plt.subplot(1,2,1)\n",
    "plt.plot(range(EPOCHS), train_loss_list, label = \"Train Loss\")\n",
    "plt.plot(range(EPOCHS), valid_loss_list, label = \"Valid Loss\")\n",
    "plt.title(\"Loss\")\n",
    "plt.legend()\n",
    "plt.grid(True, linestyle = \":\")\n",
    "\n",
    "plt.subplot(1,2,2)\n",
    "plt.plot(range(EPOCHS), valid_acc_list)\n",
    "plt.title(\"Validation Accuracy\")\n",
    "plt.grid(True, linestyle = \":\")\n",
    "\n",
    "plt.show()"
   ]
  },
  {
   "cell_type": "code",
   "execution_count": 23,
   "id": "eae203a9-e86f-4a4f-b928-5121ce34d062",
   "metadata": {},
   "outputs": [
    {
     "data": {
      "text/plain": [
       "0.3373298673312875"
      ]
     },
     "execution_count": 23,
     "metadata": {},
     "output_type": "execute_result"
    }
   ],
   "source": [
    "np.argmin(valid_loss_list) \n",
    "valid_loss_list[12] # 모델 성능이 가장 좋을 때의 valid_loss"
   ]
  },
  {
   "cell_type": "markdown",
   "id": "4ea5f47c-f674-4f14-8930-c92bb5996c1f",
   "metadata": {},
   "source": [
    "# 모델저장\n",
    "- 학습 도중 성능이 개선될 때 마다 저장\n",
    "  - 조기종료 Early stopping 같이 처리  -> 특정 epoch 수가 지나도 성능개선 안되면 학습 중단"
   ]
  },
  {
   "cell_type": "code",
   "execution_count": 25,
   "id": "4cb61785-d173-4994-bad9-d92a809e952d",
   "metadata": {
    "scrolled": true
   },
   "outputs": [
    {
     "name": "stdout",
     "output_type": "stream",
     "text": [
      "[0000/20] train loss : 0.6513276304954138, valid loss : 0.48938082139703293, valid acc : 0.8227\n",
      ">>>>>>>>모델 저장 : 1 epoch - best valid loss : inf, 현재 valid_loss:0.48938082139703293\n",
      "[0001/20] train loss : 0.414795019916999, valid loss : 0.4130299542146393, valid acc : 0.8489\n",
      ">>>>>>>>모델 저장 : 2 epoch - best valid loss : 0.48938, 현재 valid_loss:0.4130299542146393\n",
      "[0002/20] train loss : 0.35924474470890483, valid loss : 0.4080810473312306, valid acc : 0.8552\n",
      ">>>>>>>>모델 저장 : 3 epoch - best valid loss : 0.41303, 현재 valid_loss:0.4080810473312306\n",
      "[0003/20] train loss : 0.3310528237468157, valid loss : 0.3695586868856527, valid acc : 0.8694\n",
      ">>>>>>>>모델 저장 : 4 epoch - best valid loss : 0.40808, 현재 valid_loss:0.3695586868856527\n",
      "[0004/20] train loss : 0.31269433475457703, valid loss : 0.3747085225355776, valid acc : 0.8679\n",
      "[0005/20] train loss : 0.2929981532005163, valid loss : 0.34498280456549, valid acc : 0.8768\n",
      ">>>>>>>>모델 저장 : 6 epoch - best valid loss : 0.36956, 현재 valid_loss:0.34498280456549\n",
      "[0006/20] train loss : 0.2796022995924338, valid loss : 0.3527717526200451, valid acc : 0.8717\n",
      "[0007/20] train loss : 0.2683575051335188, valid loss : 0.3564009707939776, valid acc : 0.8742\n",
      "[0008/20] train loss : 0.25376147517027, valid loss : 0.35050083621393274, valid acc : 0.8733\n",
      "[0009/20] train loss : 0.24491845839298687, valid loss : 0.34506663812112204, valid acc : 0.883\n",
      "[0010/20] train loss : 0.23429324867633672, valid loss : 0.3406778979527799, valid acc : 0.8811\n",
      ">>>>>>>>모델 저장 : 11 epoch - best valid loss : 0.34498, 현재 valid_loss:0.3406778979527799\n",
      "[0011/20] train loss : 0.22290491519066002, valid loss : 0.3387839643261101, valid acc : 0.8853\n",
      ">>>>>>>>모델 저장 : 12 epoch - best valid loss : 0.34068, 현재 valid_loss:0.3387839643261101\n",
      "[0012/20] train loss : 0.21669545804078763, valid loss : 0.35509723707844937, valid acc : 0.8876\n",
      "[0013/20] train loss : 0.2081838566905413, valid loss : 0.33596589840665647, valid acc : 0.8891\n",
      ">>>>>>>>모델 저장 : 14 epoch - best valid loss : 0.33878, 현재 valid_loss:0.33596589840665647\n",
      "[0014/20] train loss : 0.20404330228383724, valid loss : 0.39816949110996874, valid acc : 0.8728\n",
      "[0015/20] train loss : 0.19277156222707187, valid loss : 0.35999197361967233, valid acc : 0.8854\n",
      "[0016/20] train loss : 0.19014949416502927, valid loss : 0.3659021558263634, valid acc : 0.8856\n",
      "[0017/20] train loss : 0.1843687582665529, valid loss : 0.36764394010924084, valid acc : 0.8909\n",
      "[0018/20] train loss : 0.17457232649127644, valid loss : 0.37645651730178276, valid acc : 0.8852\n",
      "<<<<<<<<19 epoch에서 조기종료 - best validation loss :0.33597에서 개선 안됨>>>>>>>>\n",
      "학습에 걸린 시간 : 353.77298617362976초\n"
     ]
    }
   ],
   "source": [
    "import time\n",
    "\n",
    "lr = 0.001\n",
    "epochs = 100 # epoch 수를 최대한 길게 잡음\n",
    "\n",
    "model = FashionMNISTModel().to(device)\n",
    "loss_fn = nn.CrossEntropyLoss()\n",
    "optimizer = torch.optim.Adam(model.parameters(), lr= lr)\n",
    "\n",
    "###################################\n",
    "# 조기 종료 + 모델 저장을 위한 설정(변수) 추가 \n",
    "# 조기종료 기준 평가 지표 ; validation loss\n",
    "###################################\n",
    "#가장 성능 좋았을 때의 validation loss 저장\n",
    "best_score = torch.inf # loss 작을 수록 좋으므로 가장 안좋은 loss 값으로 초기화\n",
    "save_path = \"saved_models/fashion_mnist_model.pth\"\n",
    "# patience epoch 동안 성능이 개선되지 않으면 조기 종료\n",
    "patience = 5 \n",
    "# 성능 개선 되는 지를 몇 번째 기다리는지 저장할 변수\n",
    "trigger_count = 0 # if trigger_count == patience : 조기종료 \n",
    "\n",
    "#################################\n",
    "# epoch 별 학습+검증 결과를 저장할 리스트 \n",
    "train_loss_list = []\n",
    "valid_loss_list = []\n",
    "valid_acc_list = []\n",
    "\n",
    "s = time.time()\n",
    "for epoch in range(epochs):\n",
    "    ##################################train\n",
    "    # 1. train 모드\n",
    "    model.train()\n",
    "    train_loss = 0.0\n",
    "    for X_train, y_train in train_loader:\n",
    "        # 2. device옮기기\n",
    "        X_train, y_train = X_train.to(device), y_train.to(device)\n",
    "        # 3. 모델 추정\n",
    "        pred_train = model(X_train)\n",
    "        # 4. loss 계산\n",
    "        loss = loss_fn(pred_train, y_train)\n",
    "        # 5. 파라미터들의 gradient 계산\n",
    "        loss.backward()\n",
    "        # 6. 파라미터 업데이터\n",
    "        optimizer.step()\n",
    "        # 7. 파라미터 초기화\n",
    "        optimizer.zero_grad()\n",
    "        # loss 누적\n",
    "        train_loss += loss.item()\n",
    "    train_loss /= len(train_loader)\n",
    "    train_loss_list.append(train_loss)\n",
    "\n",
    "    ################################## validation\n",
    "    #1. eval 모드\n",
    "    model.eval()\n",
    "    val_loss= 0.0\n",
    "    val_acc = 0.0\n",
    "    with torch.no_grad():\n",
    "        for X_val, y_val in test_loader:\n",
    "            #2. device옮기기\n",
    "            X_val, y_val = X_val.to(device), y_val.to(device)\n",
    "            # 3. 추론\n",
    "            pred_val = model(X_val)\n",
    "            # 4. 검증\n",
    "            loss = loss_fn(pred_val, y_val)\n",
    "            val_loss+=loss.item()\n",
    "\n",
    "            # 정확도 \n",
    "            pred_class = pred_val.argmax(dim =-1)\n",
    "            val_acc += torch.sum(y_val == pred_class).item()\n",
    "        val_loss /= len(test_loader)\n",
    "        val_acc = val_acc / len(test_loader.dataset) # DataLoader.dataset : dataset을 반환    \n",
    "        valid_loss_list.append(val_loss)\n",
    "        valid_acc_list.append(val_acc)\n",
    "    print(f\"[{epoch:04d}/{EPOCHS}] train loss : {train_loss}, valid loss : {val_loss}, valid acc : {val_acc}\")\n",
    "\n",
    "    # 한 epoch에 대한 학습 +검증 완료\n",
    "    ###############################################3\n",
    "    # 저장 + 조기종료\n",
    "    ##  모델 저장 여부 체크 후 성능 개선 됐으면 저장 \n",
    "    if val_loss < best_score: # 성능 개선 됨\n",
    "        print(f\">>>>>>>>모델 저장 : {epoch+1} epoch - best valid loss : {best_score:.5f}, 현재 valid_loss:{val_loss:.5f}\")\n",
    "        best_score= val_loss \n",
    "        # 모델 저장 \n",
    "        torch.save(model, save_path)\n",
    "        #### 조기종료 trigger_count = 0으로 초기화\n",
    "        trigger_count = 0\n",
    "    else: # 성능 개선 안됨\n",
    "        ### trigger_count 를 1 증가\n",
    "        trigger_count += 1\n",
    "        if patience == trigger_count:\n",
    "            print(f\"<<<<<<<<{epoch+1} epoch에서 조기종료 - best validation loss :{best_score:.5f}에서 개선 안됨>>>>>>>>\")\n",
    "            break\n",
    "    \n",
    "e= time.time()\n",
    "print(f\"학습에 걸린 시간 : {e-s}초\")"
   ]
  },
  {
   "cell_type": "code",
   "execution_count": 26,
   "id": "45169c71-df61-4bad-9005-6e1e4dead04a",
   "metadata": {},
   "outputs": [],
   "source": [
    "##### 저장된 모델(best score)로 testset 최종 평가\n",
    "# 저장 모델 loading \n",
    "best_model = torch.load(save_path)\n",
    "best_model = best_model.to(device)\n",
    "# eval 모드 변경\n",
    "best_model.eval()\n",
    "\n",
    "# 평가 결과를 저장할 변수\n",
    "test_loss =0.0\n",
    "test_acc = 0.0\n",
    "with torch.no_grad():\n",
    "    for X_test, y_test in test_loader:\n",
    "        X_test, y_test = X_test.to(device), y_test.to(device)\n",
    "        pred_test = model(X_test)\n",
    "        loss = loss_fn(pred_test, y_test)\n",
    "        test_loss += loss.item()\n",
    "        pred_class = pred_test.argmax(dim =-1)\n",
    "        test_acc = test_acc + torch.sum(y_test == pred_class).item()\n",
    "\n",
    "    # 검증 완료\n",
    "    test_loss = test_loss / len(test_loader)\n",
    "    test_acc= test_acc/len(test_loader.dataset)"
   ]
  },
  {
   "cell_type": "code",
   "execution_count": 30,
   "id": "f3d3a56f-cf69-47f7-a59f-cf5635bd590f",
   "metadata": {},
   "outputs": [
    {
     "name": "stdout",
     "output_type": "stream",
     "text": [
      "최종 평가 결과 - loss : 0.37645651730178276, accuracy : 0.8852\n"
     ]
    }
   ],
   "source": [
    "print(f\"최종 평가 결과 - loss : {test_loss}, accuracy : {test_acc}\")"
   ]
  },
  {
   "cell_type": "markdown",
   "id": "10103402-1651-47d8-b87a-3ef6807f6a82",
   "metadata": {},
   "source": [
    "# 새로운 데이터로 추정"
   ]
  },
  {
   "cell_type": "code",
   "execution_count": 36,
   "id": "9125ba79-d293-408e-ab81-54426468b3fa",
   "metadata": {},
   "outputs": [],
   "source": [
    "new_data = torch.empty(3,1,28,28)\n",
    "\n",
    "new_data[0] = testset[0][0] # 1번 데이터의  X\n",
    "new_data[0] = testset[1][0]\n",
    "new_data[0] = testset[2][0]"
   ]
  },
  {
   "cell_type": "code",
   "execution_count": 37,
   "id": "ae75bb4e-318d-44a5-9dcf-62213a0c48a8",
   "metadata": {},
   "outputs": [],
   "source": [
    "with torch.no_grad():\n",
    "    y_hat= best_model(new_data)"
   ]
  },
  {
   "cell_type": "code",
   "execution_count": 41,
   "id": "c5d60c36-9ef8-4e17-b044-25fee0b5da55",
   "metadata": {},
   "outputs": [
    {
     "name": "stdout",
     "output_type": "stream",
     "text": [
      "추론 라벨\n",
      "1 - Trouser, 100.00%\n",
      "5 - Sandal, 98.67%\n",
      "5 - Sandal, 98.67%\n"
     ]
    }
   ],
   "source": [
    "print(\"추론 라벨\")\n",
    "labels = y_hat.argmax(dim=-1)\n",
    "proba = y_hat.softmax(dim=-1) # 0~9 클래스 해당할 확률\n",
    "max_proba = proba.max(dim=-1).values\n",
    "\n",
    "for i, label in enumerate(labels):\n",
    "    print(f\"{label} - {testset.classes[label]}, {max_proba[i]*100:.2f}%\")"
   ]
  },
  {
   "cell_type": "code",
   "execution_count": 46,
   "id": "b00e318a-3ac3-41b0-b31c-38c95a7186c3",
   "metadata": {},
   "outputs": [
    {
     "data": {
      "text/plain": [
       "torch.return_types.max(\n",
       "values=tensor([1.0000, 0.9867, 0.9867]),\n",
       "indices=tensor([1, 5, 5]))"
      ]
     },
     "execution_count": 46,
     "metadata": {},
     "output_type": "execute_result"
    }
   ],
   "source": [
    "proba.max(dim=-1) # 축 지정"
   ]
  },
  {
   "cell_type": "code",
   "execution_count": null,
   "id": "853751bd-a3f4-466f-8811-6d0ce2ef2b69",
   "metadata": {},
   "outputs": [],
   "source": []
  },
  {
   "cell_type": "code",
   "execution_count": null,
   "id": "6f5253c6-1d3e-4445-93da-e0388eb26047",
   "metadata": {},
   "outputs": [],
   "source": []
  },
  {
   "cell_type": "code",
   "execution_count": null,
   "id": "f04be36c-ef69-4706-b2f1-93938319a208",
   "metadata": {},
   "outputs": [],
   "source": []
  },
  {
   "cell_type": "code",
   "execution_count": null,
   "id": "7bafc095-6558-4ea2-a694-1c8abfc69279",
   "metadata": {},
   "outputs": [],
   "source": []
  },
  {
   "cell_type": "code",
   "execution_count": null,
   "id": "d846c7b5-88e8-4014-b753-5d74191ff6f6",
   "metadata": {},
   "outputs": [],
   "source": []
  },
  {
   "cell_type": "code",
   "execution_count": null,
   "id": "30809022-80c4-4c97-9d6d-e7b2481a9d50",
   "metadata": {},
   "outputs": [],
   "source": []
  },
  {
   "cell_type": "code",
   "execution_count": null,
   "id": "044415b4-361f-4ecc-a975-a7af331b78a8",
   "metadata": {},
   "outputs": [],
   "source": []
  },
  {
   "cell_type": "code",
   "execution_count": null,
   "id": "5002350f-7622-471f-929c-582ac19fcb70",
   "metadata": {},
   "outputs": [],
   "source": []
  },
  {
   "cell_type": "code",
   "execution_count": null,
   "id": "76cac762-4b0a-48e4-a2a2-2216d16e210e",
   "metadata": {},
   "outputs": [],
   "source": []
  },
  {
   "cell_type": "code",
   "execution_count": null,
   "id": "e6f98f30-e2b9-4490-8498-50015874938e",
   "metadata": {},
   "outputs": [],
   "source": []
  }
 ],
 "metadata": {
  "kernelspec": {
   "display_name": "Python 3 (ipykernel)",
   "language": "python",
   "name": "python3"
  },
  "language_info": {
   "codemirror_mode": {
    "name": "ipython",
    "version": 3
   },
   "file_extension": ".py",
   "mimetype": "text/x-python",
   "name": "python",
   "nbconvert_exporter": "python",
   "pygments_lexer": "ipython3",
   "version": "3.11.8"
  }
 },
 "nbformat": 4,
 "nbformat_minor": 5
}
